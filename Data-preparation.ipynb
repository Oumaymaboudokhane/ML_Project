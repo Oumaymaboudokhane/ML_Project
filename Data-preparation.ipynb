{
 "cells": [
  {
   "cell_type": "code",
   "execution_count": 1,
   "metadata": {},
   "outputs": [
    {
     "name": "stderr",
     "output_type": "stream",
     "text": [
      "C:\\Users\\asus\\Anaconda3\\lib\\site-packages\\statsmodels\\tools\\_testing.py:19: FutureWarning: pandas.util.testing is deprecated. Use the functions in the public API at pandas.testing instead.\n",
      "  import pandas.util.testing as tm\n"
     ]
    }
   ],
   "source": [
    "import numpy as np\n",
    "import pandas as pd\n",
    "import seaborn as sns\n",
    "import matplotlib.pyplot as plt\n",
    "from sklearn import preprocessing\n",
    "\n",
    "df=pd.read_excel('C://Users//asus//Desktop//df.xlsx')\n",
    "le = preprocessing.LabelEncoder()\n",
    "cols = ['Gender','Phone Service','Senior Citizen','Dependents','Online Backup','Device Protection' ,'Online Security','Partner','Churn Label','Multiple Lines','Tech Support','Streaming Movies','Streaming TV','Paperless Billing']\n",
    "def replace_fun(df,col):\n",
    "    df[col]=df[col].replace('No internet service','No')\n",
    "    return df[col]\n",
    "columns=['Online Backup','Device Protection','Online Security','Tech Support','Streaming Movies','Streaming TV']\n",
    "for column in columns:\n",
    "    df[column]=replace_fun(df,column)\n",
    "df['Multiple Lines']=df['Multiple Lines'].replace('No phone service','No')\n",
    "df['Internet Service']=df['Internet Service'].replace('No','No Internet Service')\n",
    "df[cols]= df[cols].apply(le.fit_transform)"
   ]
  },
  {
   "cell_type": "code",
   "execution_count": 2,
   "metadata": {},
   "outputs": [],
   "source": [
    "dummies_payment=pd.get_dummies(df['Payment Method'])\n",
    "dummies_contracts=pd.get_dummies(df['Contract'])\n",
    "dummies_internet=pd.get_dummies(df['Internet Service'])"
   ]
  },
  {
   "cell_type": "code",
   "execution_count": 3,
   "metadata": {},
   "outputs": [],
   "source": [
    "df=df.drop(['Country','State','City','Payment Method','Contract','Churn Reason','Churn Label','Internet Service','Churn Score','CLTV','Lat Long'], axis=1)"
   ]
  },
  {
   "cell_type": "code",
   "execution_count": 4,
   "metadata": {},
   "outputs": [],
   "source": [
    "frames=[df,dummies_payment,dummies_contracts,dummies_internet]\n",
    "data=pd.concat(frames,axis=1)\n",
    "data['Total Charges'] = data['Total Charges'].apply(pd.to_numeric, errors='coerce')\n",
    "x=data.drop(['CustomerID','Churn Value','Count','Zip Code','Latitude','Longitude'],axis=1)\n",
    "y=data['Churn Value']"
   ]
  },
  {
   "cell_type": "code",
   "execution_count": 5,
   "metadata": {},
   "outputs": [],
   "source": [
    "def min_max_scaling(df):\n",
    "    df_norm = df.copy()\n",
    "    for column in df_norm.columns:\n",
    "        df_norm[column] = (df_norm[column] - df_norm[column].min()) / (df_norm[column].max() - df_norm[column].min())\n",
    "        \n",
    "    return df_norm\n",
    "    \n",
    "# call the min_max_scaling function\n",
    "data_normalized = min_max_scaling(x)\n",
    "data_normalized.fillna(data_normalized.mean(), inplace=True)"
   ]
  },
  {
   "cell_type": "code",
   "execution_count": 6,
   "metadata": {},
   "outputs": [],
   "source": [
    "cols=['Tenure Months','Total Charges','Monthly Charges']\n",
    "Moy = x[cols].mean()\n",
    "ecart= x[cols].std()\n",
    "data_stand=x\n",
    "data_stand[cols]=(x[cols]-Moy)/ecart\n",
    "data_stand.fillna(data_stand.mean(), inplace=True)"
   ]
  },
  {
   "cell_type": "code",
   "execution_count": 7,
   "metadata": {},
   "outputs": [],
   "source": [
    "from sklearn.naive_bayes import GaussianNB\n",
    "from sklearn.model_selection import train_test_split\n",
    "gnb = GaussianNB()\n",
    "X_train, X_test, y_train, y_test = train_test_split(data_normalized, y, test_size=0.2, random_state=1)"
   ]
  },
  {
   "cell_type": "code",
   "execution_count": 8,
   "metadata": {},
   "outputs": [],
   "source": [
    "from mlxtend.feature_selection import SequentialFeatureSelector as SFS\n",
    "sfs = SFS(gnb, \n",
    "           k_features=13, \n",
    "           forward=True, \n",
    "           floating=False, \n",
    "           verbose=2,\n",
    "           scoring='accuracy',\n",
    "           cv=0)"
   ]
  },
  {
   "cell_type": "code",
   "execution_count": 9,
   "metadata": {},
   "outputs": [
    {
     "name": "stderr",
     "output_type": "stream",
     "text": [
      "[Parallel(n_jobs=1)]: Using backend SequentialBackend with 1 concurrent workers.\n",
      "[Parallel(n_jobs=1)]: Done   1 out of   1 | elapsed:    0.0s remaining:    0.0s\n",
      "[Parallel(n_jobs=1)]: Done  26 out of  26 | elapsed:    0.1s finished\n",
      "\n",
      "[2021-01-06 21:34:03] Features: 1/13 -- score: 0.730386936457224[Parallel(n_jobs=1)]: Using backend SequentialBackend with 1 concurrent workers.\n",
      "[Parallel(n_jobs=1)]: Done   1 out of   1 | elapsed:    0.0s remaining:    0.0s\n",
      "[Parallel(n_jobs=1)]: Done  25 out of  25 | elapsed:    0.0s finished\n",
      "\n",
      "[2021-01-06 21:34:04] Features: 2/13 -- score: 0.7421015264465743[Parallel(n_jobs=1)]: Using backend SequentialBackend with 1 concurrent workers.\n",
      "[Parallel(n_jobs=1)]: Done   1 out of   1 | elapsed:    0.0s remaining:    0.0s\n",
      "[Parallel(n_jobs=1)]: Done  24 out of  24 | elapsed:    0.0s finished\n",
      "\n",
      "[2021-01-06 21:34:04] Features: 3/13 -- score: 0.784877529286475[Parallel(n_jobs=1)]: Using backend SequentialBackend with 1 concurrent workers.\n",
      "[Parallel(n_jobs=1)]: Done   1 out of   1 | elapsed:    0.0s remaining:    0.0s\n",
      "[Parallel(n_jobs=1)]: Done  23 out of  23 | elapsed:    0.0s finished\n",
      "\n",
      "[2021-01-06 21:34:04] Features: 4/13 -- score: 0.7862974795882144[Parallel(n_jobs=1)]: Using backend SequentialBackend with 1 concurrent workers.\n",
      "[Parallel(n_jobs=1)]: Done   1 out of   1 | elapsed:    0.0s remaining:    0.0s\n",
      "[Parallel(n_jobs=1)]: Done  22 out of  22 | elapsed:    0.0s finished\n",
      "\n",
      "[2021-01-06 21:34:04] Features: 5/13 -- score: 0.788604898828541[Parallel(n_jobs=1)]: Using backend SequentialBackend with 1 concurrent workers.\n",
      "[Parallel(n_jobs=1)]: Done   1 out of   1 | elapsed:    0.0s remaining:    0.0s\n",
      "[Parallel(n_jobs=1)]: Done  21 out of  21 | elapsed:    0.0s finished\n",
      "\n",
      "[2021-01-06 21:34:04] Features: 6/13 -- score: 0.7878949236776713[Parallel(n_jobs=1)]: Using backend SequentialBackend with 1 concurrent workers.\n",
      "[Parallel(n_jobs=1)]: Done   1 out of   1 | elapsed:    0.0s remaining:    0.0s\n",
      "[Parallel(n_jobs=1)]: Done  20 out of  20 | elapsed:    0.0s finished\n",
      "\n",
      "[2021-01-06 21:34:04] Features: 7/13 -- score: 0.7866524671636492[Parallel(n_jobs=1)]: Using backend SequentialBackend with 1 concurrent workers.\n",
      "[Parallel(n_jobs=1)]: Done   1 out of   1 | elapsed:    0.0s remaining:    0.0s\n",
      "[Parallel(n_jobs=1)]: Done  19 out of  19 | elapsed:    0.0s finished\n",
      "\n",
      "[2021-01-06 21:34:04] Features: 8/13 -- score: 0.7864749733759319[Parallel(n_jobs=1)]: Using backend SequentialBackend with 1 concurrent workers.\n",
      "[Parallel(n_jobs=1)]: Done   1 out of   1 | elapsed:    0.0s remaining:    0.0s\n",
      "[Parallel(n_jobs=1)]: Done  18 out of  18 | elapsed:    0.0s finished\n",
      "\n",
      "[2021-01-06 21:34:04] Features: 9/13 -- score: 0.7887823926162584[Parallel(n_jobs=1)]: Using backend SequentialBackend with 1 concurrent workers.\n",
      "[Parallel(n_jobs=1)]: Done   1 out of   1 | elapsed:    0.0s remaining:    0.0s\n",
      "[Parallel(n_jobs=1)]: Done  17 out of  17 | elapsed:    0.0s finished\n",
      "\n",
      "[2021-01-06 21:34:04] Features: 10/13 -- score: 0.789847355342563[Parallel(n_jobs=1)]: Using backend SequentialBackend with 1 concurrent workers.\n",
      "[Parallel(n_jobs=1)]: Done   1 out of   1 | elapsed:    0.0s remaining:    0.0s\n",
      "[Parallel(n_jobs=1)]: Done  16 out of  16 | elapsed:    0.0s finished\n",
      "\n",
      "[2021-01-06 21:34:04] Features: 11/13 -- score: 0.784877529286475[Parallel(n_jobs=1)]: Using backend SequentialBackend with 1 concurrent workers.\n",
      "[Parallel(n_jobs=1)]: Done   1 out of   1 | elapsed:    0.0s remaining:    0.0s\n",
      "[Parallel(n_jobs=1)]: Done  15 out of  15 | elapsed:    0.0s finished\n",
      "\n",
      "[2021-01-06 21:34:04] Features: 12/13 -- score: 0.7884274050408235[Parallel(n_jobs=1)]: Using backend SequentialBackend with 1 concurrent workers.\n",
      "[Parallel(n_jobs=1)]: Done   1 out of   1 | elapsed:    0.0s remaining:    0.0s\n",
      "[Parallel(n_jobs=1)]: Done  14 out of  14 | elapsed:    0.0s finished\n",
      "\n",
      "[2021-01-06 21:34:04] Features: 13/13 -- score: 0.7831025914093007"
     ]
    }
   ],
   "source": [
    "sfs = sfs.fit(X_train, y_train)\n",
    "#pd.DataFrame.from_dict(sfs.get_metric_dict()).T"
   ]
  },
  {
   "cell_type": "code",
   "execution_count": 10,
   "metadata": {},
   "outputs": [
    {
     "data": {
      "text/plain": [
       "{1: {'feature_idx': (0,),\n",
       "  'cv_scores': array([0.73038694]),\n",
       "  'avg_score': 0.730386936457224,\n",
       "  'feature_names': ('Gender',)},\n",
       " 2: {'feature_idx': (0, 4),\n",
       "  'cv_scores': array([0.74210153]),\n",
       "  'avg_score': 0.7421015264465743,\n",
       "  'feature_names': ('Gender', 'Tenure Months')},\n",
       " 3: {'feature_idx': (0, 4, 24),\n",
       "  'cv_scores': array([0.78487753]),\n",
       "  'avg_score': 0.784877529286475,\n",
       "  'feature_names': ('Gender', 'Tenure Months', 'Fiber optic')},\n",
       " 4: {'feature_idx': (0, 4, 6, 24),\n",
       "  'cv_scores': array([0.78629748]),\n",
       "  'avg_score': 0.7862974795882144,\n",
       "  'feature_names': ('Gender',\n",
       "   'Tenure Months',\n",
       "   'Multiple Lines',\n",
       "   'Fiber optic')},\n",
       " 5: {'feature_idx': (0, 4, 6, 11, 24),\n",
       "  'cv_scores': array([0.7886049]),\n",
       "  'avg_score': 0.788604898828541,\n",
       "  'feature_names': ('Gender',\n",
       "   'Tenure Months',\n",
       "   'Multiple Lines',\n",
       "   'Streaming TV',\n",
       "   'Fiber optic')},\n",
       " 6: {'feature_idx': (0, 4, 6, 9, 11, 24),\n",
       "  'cv_scores': array([0.78789492]),\n",
       "  'avg_score': 0.7878949236776713,\n",
       "  'feature_names': ('Gender',\n",
       "   'Tenure Months',\n",
       "   'Multiple Lines',\n",
       "   'Device Protection',\n",
       "   'Streaming TV',\n",
       "   'Fiber optic')},\n",
       " 7: {'feature_idx': (0, 4, 6, 9, 11, 12, 24),\n",
       "  'cv_scores': array([0.78665247]),\n",
       "  'avg_score': 0.7866524671636492,\n",
       "  'feature_names': ('Gender',\n",
       "   'Tenure Months',\n",
       "   'Multiple Lines',\n",
       "   'Device Protection',\n",
       "   'Streaming TV',\n",
       "   'Streaming Movies',\n",
       "   'Fiber optic')},\n",
       " 8: {'feature_idx': (0, 4, 6, 9, 11, 12, 15, 24),\n",
       "  'cv_scores': array([0.78647497]),\n",
       "  'avg_score': 0.7864749733759319,\n",
       "  'feature_names': ('Gender',\n",
       "   'Tenure Months',\n",
       "   'Multiple Lines',\n",
       "   'Device Protection',\n",
       "   'Streaming TV',\n",
       "   'Streaming Movies',\n",
       "   'Total Charges',\n",
       "   'Fiber optic')},\n",
       " 9: {'feature_idx': (0, 4, 6, 9, 11, 12, 13, 15, 24),\n",
       "  'cv_scores': array([0.78878239]),\n",
       "  'avg_score': 0.7887823926162584,\n",
       "  'feature_names': ('Gender',\n",
       "   'Tenure Months',\n",
       "   'Multiple Lines',\n",
       "   'Device Protection',\n",
       "   'Streaming TV',\n",
       "   'Streaming Movies',\n",
       "   'Paperless Billing',\n",
       "   'Total Charges',\n",
       "   'Fiber optic')},\n",
       " 10: {'feature_idx': (0, 4, 6, 8, 9, 11, 12, 13, 15, 24),\n",
       "  'cv_scores': array([0.78984736]),\n",
       "  'avg_score': 0.789847355342563,\n",
       "  'feature_names': ('Gender',\n",
       "   'Tenure Months',\n",
       "   'Multiple Lines',\n",
       "   'Online Backup',\n",
       "   'Device Protection',\n",
       "   'Streaming TV',\n",
       "   'Streaming Movies',\n",
       "   'Paperless Billing',\n",
       "   'Total Charges',\n",
       "   'Fiber optic')},\n",
       " 11: {'feature_idx': (0, 1, 4, 6, 8, 9, 11, 12, 13, 15, 24),\n",
       "  'cv_scores': array([0.78487753]),\n",
       "  'avg_score': 0.784877529286475,\n",
       "  'feature_names': ('Gender',\n",
       "   'Senior Citizen',\n",
       "   'Tenure Months',\n",
       "   'Multiple Lines',\n",
       "   'Online Backup',\n",
       "   'Device Protection',\n",
       "   'Streaming TV',\n",
       "   'Streaming Movies',\n",
       "   'Paperless Billing',\n",
       "   'Total Charges',\n",
       "   'Fiber optic')},\n",
       " 12: {'feature_idx': (0, 1, 4, 6, 8, 9, 10, 11, 12, 13, 15, 24),\n",
       "  'cv_scores': array([0.78842741]),\n",
       "  'avg_score': 0.7884274050408235,\n",
       "  'feature_names': ('Gender',\n",
       "   'Senior Citizen',\n",
       "   'Tenure Months',\n",
       "   'Multiple Lines',\n",
       "   'Online Backup',\n",
       "   'Device Protection',\n",
       "   'Tech Support',\n",
       "   'Streaming TV',\n",
       "   'Streaming Movies',\n",
       "   'Paperless Billing',\n",
       "   'Total Charges',\n",
       "   'Fiber optic')},\n",
       " 13: {'feature_idx': (0, 1, 4, 6, 8, 9, 10, 11, 12, 13, 14, 15, 24),\n",
       "  'cv_scores': array([0.78310259]),\n",
       "  'avg_score': 0.7831025914093007,\n",
       "  'feature_names': ('Gender',\n",
       "   'Senior Citizen',\n",
       "   'Tenure Months',\n",
       "   'Multiple Lines',\n",
       "   'Online Backup',\n",
       "   'Device Protection',\n",
       "   'Tech Support',\n",
       "   'Streaming TV',\n",
       "   'Streaming Movies',\n",
       "   'Paperless Billing',\n",
       "   'Monthly Charges',\n",
       "   'Total Charges',\n",
       "   'Fiber optic')}}"
      ]
     },
     "execution_count": 10,
     "metadata": {},
     "output_type": "execute_result"
    }
   ],
   "source": [
    "sfs.subsets_"
   ]
  },
  {
   "cell_type": "code",
   "execution_count": 11,
   "metadata": {},
   "outputs": [
    {
     "data": {
      "text/plain": [
       "GaussianNB()"
      ]
     },
     "execution_count": 11,
     "metadata": {},
     "output_type": "execute_result"
    }
   ],
   "source": [
    "cols=['Tenure Months','Multiple Lines','Online Backup','Device Protection','Streaming TV','Streaming Movies','Paperless Billing','Total Charges','Fiber optic']\n",
    "X_train, X_test, y_train, y_test = train_test_split(data_normalized[cols], y, test_size=0.2, random_state=1)\n",
    "gnb.fit(X_train,y_train)"
   ]
  },
  {
   "cell_type": "code",
   "execution_count": 12,
   "metadata": {},
   "outputs": [],
   "source": [
    "y_pred=gnb.predict(X_test)"
   ]
  },
  {
   "cell_type": "code",
   "execution_count": 13,
   "metadata": {},
   "outputs": [
    {
     "name": "stdout",
     "output_type": "stream",
     "text": [
      "Accuracy of gnb on training set: 0.79\n",
      "Accuracy of gnb on test set: 0.78\n"
     ]
    }
   ],
   "source": [
    "print('Accuracy of gnb on training set: {:.2f}'\n",
    "     .format(gnb.score(X_train, y_train)))\n",
    "print('Accuracy of gnb on test set: {:.2f}'\n",
    "     .format(gnb.score(X_test, y_test)))"
   ]
  },
  {
   "cell_type": "code",
   "execution_count": 14,
   "metadata": {},
   "outputs": [
    {
     "name": "stdout",
     "output_type": "stream",
     "text": [
      "[[921 138]\n",
      " [172 178]]\n"
     ]
    }
   ],
   "source": [
    "from sklearn.metrics import confusion_matrix\n",
    "print(confusion_matrix(y_test, y_pred))"
   ]
  },
  {
   "cell_type": "code",
   "execution_count": 15,
   "metadata": {},
   "outputs": [
    {
     "name": "stdout",
     "output_type": "stream",
     "text": [
      "              precision    recall  f1-score   support\n",
      "\n",
      "           0       0.84      0.87      0.86      1059\n",
      "           1       0.56      0.51      0.53       350\n",
      "\n",
      "    accuracy                           0.78      1409\n",
      "   macro avg       0.70      0.69      0.70      1409\n",
      "weighted avg       0.77      0.78      0.78      1409\n",
      "\n"
     ]
    }
   ],
   "source": [
    "from sklearn.metrics import classification_report\n",
    "print(classification_report(y_test, y_pred))"
   ]
  },
  {
   "cell_type": "code",
   "execution_count": 16,
   "metadata": {},
   "outputs": [],
   "source": [
    "x=data.drop(['CustomerID','Count','Zip Code','Latitude','Longitude'],axis=1)"
   ]
  },
  {
   "cell_type": "code",
   "execution_count": 17,
   "metadata": {},
   "outputs": [],
   "source": [
    "X_no = x[x['Churn Value'] == 0]\n",
    "X_yes = x[x['Churn Value'] == 1]"
   ]
  },
  {
   "cell_type": "code",
   "execution_count": 18,
   "metadata": {},
   "outputs": [
    {
     "name": "stdout",
     "output_type": "stream",
     "text": [
      "5174\n"
     ]
    }
   ],
   "source": [
    "X_yes_upsampled = X_yes.sample(n=len(X_no), replace=True, random_state=42)\n",
    "print(len(X_yes_upsampled))"
   ]
  },
  {
   "cell_type": "code",
   "execution_count": 19,
   "metadata": {},
   "outputs": [
    {
     "data": {
      "text/plain": [
       "Text(0.5, 1.0, 'Class Distribution After Resampling')"
      ]
     },
     "execution_count": 19,
     "metadata": {},
     "output_type": "execute_result"
    },
    {
     "data": {
      "image/png": "[encoded data removed]",
      "text/plain": [
       "<Figure size 432x288 with 1 Axes>"
      ]
     },
     "metadata": {
      "needs_background": "light"
     },
     "output_type": "display_data"
    }
   ],
   "source": [
    "X_upsampled = X_no.append(X_yes_upsampled).reset_index(drop=True)\n",
    "sns.countplot('Churn Value', data=X_upsampled).set_title('Class Distribution After Resampling')"
   ]
  },
  {
   "cell_type": "code",
   "execution_count": 20,
   "metadata": {},
   "outputs": [
    {
     "name": "stderr",
     "output_type": "stream",
     "text": [
      "[Parallel(n_jobs=1)]: Using backend SequentialBackend with 1 concurrent workers.\n",
      "[Parallel(n_jobs=1)]: Done   1 out of   1 | elapsed:    0.0s remaining:    0.0s\n",
      "[Parallel(n_jobs=1)]: Done  26 out of  26 | elapsed:    1.3s finished\n",
      "\n",
      "[2021-01-06 21:34:11] Features: 1/13 -- score: 0.727107997100749[Parallel(n_jobs=1)]: Using backend SequentialBackend with 1 concurrent workers.\n",
      "[Parallel(n_jobs=1)]: Done   1 out of   1 | elapsed:    0.0s remaining:    0.0s\n",
      "[Parallel(n_jobs=1)]: Done  25 out of  25 | elapsed:    1.2s finished\n",
      "\n",
      "[2021-01-06 21:34:12] Features: 2/13 -- score: 0.7486107755496497[Parallel(n_jobs=1)]: Using backend SequentialBackend with 1 concurrent workers.\n",
      "[Parallel(n_jobs=1)]: Done   1 out of   1 | elapsed:    0.0s remaining:    0.0s\n",
      "[Parallel(n_jobs=1)]: Done  24 out of  24 | elapsed:    1.1s finished\n",
      "\n",
      "[2021-01-06 21:34:13] Features: 3/13 -- score: 0.7540468712249335[Parallel(n_jobs=1)]: Using backend SequentialBackend with 1 concurrent workers.\n",
      "[Parallel(n_jobs=1)]: Done   1 out of   1 | elapsed:    0.0s remaining:    0.0s\n",
      "[Parallel(n_jobs=1)]: Done  23 out of  23 | elapsed:    2.1s finished\n",
      "\n",
      "[2021-01-06 21:34:16] Features: 4/13 -- score: 0.754167673351051[Parallel(n_jobs=1)]: Using backend SequentialBackend with 1 concurrent workers.\n",
      "[Parallel(n_jobs=1)]: Done   1 out of   1 | elapsed:    0.0s remaining:    0.0s\n",
      "[Parallel(n_jobs=1)]: Done  22 out of  22 | elapsed:    2.4s finished\n",
      "\n",
      "[2021-01-06 21:34:18] Features: 5/13 -- score: 0.7552548924861078[Parallel(n_jobs=1)]: Using backend SequentialBackend with 1 concurrent workers.\n",
      "[Parallel(n_jobs=1)]: Done   1 out of   1 | elapsed:    0.0s remaining:    0.0s\n",
      "[Parallel(n_jobs=1)]: Done  21 out of  21 | elapsed:    2.2s finished\n",
      "\n",
      "[2021-01-06 21:34:20] Features: 6/13 -- score: 0.7564629137472819[Parallel(n_jobs=1)]: Using backend SequentialBackend with 1 concurrent workers.\n",
      "[Parallel(n_jobs=1)]: Done   1 out of   1 | elapsed:    0.0s remaining:    0.0s\n",
      "[Parallel(n_jobs=1)]: Done  20 out of  20 | elapsed:    1.8s finished\n",
      "\n",
      "[2021-01-06 21:34:22] Features: 7/13 -- score: 0.7575501328823387[Parallel(n_jobs=1)]: Using backend SequentialBackend with 1 concurrent workers.\n",
      "[Parallel(n_jobs=1)]: Done   1 out of   1 | elapsed:    0.0s remaining:    0.0s\n",
      "[Parallel(n_jobs=1)]: Done  19 out of  19 | elapsed:    2.2s finished\n",
      "\n",
      "[2021-01-06 21:34:25] Features: 8/13 -- score: 0.7577917371345736[Parallel(n_jobs=1)]: Using backend SequentialBackend with 1 concurrent workers.\n",
      "[Parallel(n_jobs=1)]: Done   1 out of   1 | elapsed:    0.0s remaining:    0.0s\n",
      "[Parallel(n_jobs=1)]: Done  18 out of  18 | elapsed:    2.6s finished\n",
      "\n",
      "[2021-01-06 21:34:27] Features: 9/13 -- score: 0.7577917371345736[Parallel(n_jobs=1)]: Using backend SequentialBackend with 1 concurrent workers.\n",
      "[Parallel(n_jobs=1)]: Done   1 out of   1 | elapsed:    0.0s remaining:    0.0s\n",
      "[Parallel(n_jobs=1)]: Done  17 out of  17 | elapsed:    2.5s finished\n",
      "\n",
      "[2021-01-06 21:34:30] Features: 10/13 -- score: 0.7568253201256342[Parallel(n_jobs=1)]: Using backend SequentialBackend with 1 concurrent workers.\n",
      "[Parallel(n_jobs=1)]: Done   1 out of   1 | elapsed:    0.0s remaining:    0.0s\n",
      "[Parallel(n_jobs=1)]: Done  16 out of  16 | elapsed:    2.2s finished\n",
      "\n",
      "[2021-01-06 21:34:32] Features: 11/13 -- score: 0.7571877265039865[Parallel(n_jobs=1)]: Using backend SequentialBackend with 1 concurrent workers.\n",
      "[Parallel(n_jobs=1)]: Done   1 out of   1 | elapsed:    0.0s remaining:    0.0s\n",
      "[Parallel(n_jobs=1)]: Done  15 out of  15 | elapsed:    1.7s finished\n",
      "\n",
      "[2021-01-06 21:34:34] Features: 12/13 -- score: 0.757066924377869[Parallel(n_jobs=1)]: Using backend SequentialBackend with 1 concurrent workers.\n",
      "[Parallel(n_jobs=1)]: Done   1 out of   1 | elapsed:    0.1s remaining:    0.0s\n",
      "[Parallel(n_jobs=1)]: Done  14 out of  14 | elapsed:    2.3s finished\n",
      "\n",
      "[2021-01-06 21:34:37] Features: 13/13 -- score: 0.757912539260691"
     ]
    },
    {
     "data": {
      "text/plain": [
       "{1: {'feature_idx': (20,),\n",
       "  'cv_scores': array([0.727108]),\n",
       "  'avg_score': 0.727107997100749,\n",
       "  'feature_names': ('Month-to-month',)},\n",
       " 2: {'feature_idx': (3, 20),\n",
       "  'cv_scores': array([0.74861078]),\n",
       "  'avg_score': 0.7486107755496497,\n",
       "  'feature_names': ('Dependents', 'Month-to-month')},\n",
       " 3: {'feature_idx': (3, 20, 25),\n",
       "  'cv_scores': array([0.75404687]),\n",
       "  'avg_score': 0.7540468712249335,\n",
       "  'feature_names': ('Dependents', 'Month-to-month', 'No Internet Service')},\n",
       " 4: {'feature_idx': (3, 15, 20, 25),\n",
       "  'cv_scores': array([0.75416767]),\n",
       "  'avg_score': 0.754167673351051,\n",
       "  'feature_names': ('Dependents',\n",
       "   'Total Charges',\n",
       "   'Month-to-month',\n",
       "   'No Internet Service')},\n",
       " 5: {'feature_idx': (3, 7, 15, 20, 25),\n",
       "  'cv_scores': array([0.75525489]),\n",
       "  'avg_score': 0.7552548924861078,\n",
       "  'feature_names': ('Dependents',\n",
       "   'Online Security',\n",
       "   'Total Charges',\n",
       "   'Month-to-month',\n",
       "   'No Internet Service')},\n",
       " 6: {'feature_idx': (3, 7, 10, 15, 20, 25),\n",
       "  'cv_scores': array([0.75646291]),\n",
       "  'avg_score': 0.7564629137472819,\n",
       "  'feature_names': ('Dependents',\n",
       "   'Online Security',\n",
       "   'Tech Support',\n",
       "   'Total Charges',\n",
       "   'Month-to-month',\n",
       "   'No Internet Service')},\n",
       " 7: {'feature_idx': (3, 7, 8, 10, 15, 20, 25),\n",
       "  'cv_scores': array([0.75755013]),\n",
       "  'avg_score': 0.7575501328823387,\n",
       "  'feature_names': ('Dependents',\n",
       "   'Online Security',\n",
       "   'Online Backup',\n",
       "   'Tech Support',\n",
       "   'Total Charges',\n",
       "   'Month-to-month',\n",
       "   'No Internet Service')},\n",
       " 8: {'feature_idx': (3, 5, 7, 8, 10, 15, 20, 25),\n",
       "  'cv_scores': array([0.75779174]),\n",
       "  'avg_score': 0.7577917371345736,\n",
       "  'feature_names': ('Dependents',\n",
       "   'Phone Service',\n",
       "   'Online Security',\n",
       "   'Online Backup',\n",
       "   'Tech Support',\n",
       "   'Total Charges',\n",
       "   'Month-to-month',\n",
       "   'No Internet Service')},\n",
       " 9: {'feature_idx': (0, 3, 5, 7, 8, 10, 15, 20, 25),\n",
       "  'cv_scores': array([0.75779174]),\n",
       "  'avg_score': 0.7577917371345736,\n",
       "  'feature_names': ('Gender',\n",
       "   'Dependents',\n",
       "   'Phone Service',\n",
       "   'Online Security',\n",
       "   'Online Backup',\n",
       "   'Tech Support',\n",
       "   'Total Charges',\n",
       "   'Month-to-month',\n",
       "   'No Internet Service')},\n",
       " 10: {'feature_idx': (0, 3, 5, 6, 7, 8, 10, 15, 20, 25),\n",
       "  'cv_scores': array([0.75682532]),\n",
       "  'avg_score': 0.7568253201256342,\n",
       "  'feature_names': ('Gender',\n",
       "   'Dependents',\n",
       "   'Phone Service',\n",
       "   'Multiple Lines',\n",
       "   'Online Security',\n",
       "   'Online Backup',\n",
       "   'Tech Support',\n",
       "   'Total Charges',\n",
       "   'Month-to-month',\n",
       "   'No Internet Service')},\n",
       " 11: {'feature_idx': (0, 3, 5, 6, 7, 8, 10, 12, 15, 20, 25),\n",
       "  'cv_scores': array([0.75718773]),\n",
       "  'avg_score': 0.7571877265039865,\n",
       "  'feature_names': ('Gender',\n",
       "   'Dependents',\n",
       "   'Phone Service',\n",
       "   'Multiple Lines',\n",
       "   'Online Security',\n",
       "   'Online Backup',\n",
       "   'Tech Support',\n",
       "   'Streaming Movies',\n",
       "   'Total Charges',\n",
       "   'Month-to-month',\n",
       "   'No Internet Service')},\n",
       " 12: {'feature_idx': (0, 3, 5, 6, 7, 8, 10, 11, 12, 15, 20, 25),\n",
       "  'cv_scores': array([0.75706692]),\n",
       "  'avg_score': 0.757066924377869,\n",
       "  'feature_names': ('Gender',\n",
       "   'Dependents',\n",
       "   'Phone Service',\n",
       "   'Multiple Lines',\n",
       "   'Online Security',\n",
       "   'Online Backup',\n",
       "   'Tech Support',\n",
       "   'Streaming TV',\n",
       "   'Streaming Movies',\n",
       "   'Total Charges',\n",
       "   'Month-to-month',\n",
       "   'No Internet Service')},\n",
       " 13: {'feature_idx': (0, 3, 4, 5, 6, 7, 8, 10, 11, 12, 15, 20, 25),\n",
       "  'cv_scores': array([0.75791254]),\n",
       "  'avg_score': 0.757912539260691,\n",
       "  'feature_names': ('Gender',\n",
       "   'Dependents',\n",
       "   'Tenure Months',\n",
       "   'Phone Service',\n",
       "   'Multiple Lines',\n",
       "   'Online Security',\n",
       "   'Online Backup',\n",
       "   'Tech Support',\n",
       "   'Streaming TV',\n",
       "   'Streaming Movies',\n",
       "   'Total Charges',\n",
       "   'Month-to-month',\n",
       "   'No Internet Service')}}"
      ]
     },
     "execution_count": 20,
     "metadata": {},
     "output_type": "execute_result"
    }
   ],
   "source": [
    "X_upsampled.fillna(X_upsampled.mean(), inplace=True)\n",
    "Y=X_upsampled['Churn Value']\n",
    "X=X_upsampled.drop(['Churn Value'], axis=1)\n",
    "X_train, X_test, y_train, y_test = train_test_split(X, Y, test_size=0.2, random_state=1)\n",
    "sfs = sfs.fit(X_train, y_train)\n",
    "sfs.subsets_"
   ]
  },
  {
   "cell_type": "code",
   "execution_count": 21,
   "metadata": {},
   "outputs": [
    {
     "data": {
      "text/plain": [
       "GaussianNB()"
      ]
     },
     "execution_count": 21,
     "metadata": {},
     "output_type": "execute_result"
    }
   ],
   "source": [
    "cols=['Gender','Dependents','Tenure Months','Phone Service','Multiple Lines','Online Security','Online Backup','Streaming TV','Streaming Movies','Total Charges','Month-to-month',\n",
    "   'No Internet Service']\n",
    "gnb.fit(X_train[cols],y_train)"
   ]
  },
  {
   "cell_type": "code",
   "execution_count": 22,
   "metadata": {},
   "outputs": [
    {
     "name": "stdout",
     "output_type": "stream",
     "text": [
      "Accuracy of gnb on training set: 0.75\n",
      "Accuracy of gnb on test set: 0.76\n"
     ]
    }
   ],
   "source": [
    "y_pred=gnb.predict(X_test[cols])\n",
    "print('Accuracy of gnb on training set: {:.2f}'\n",
    "     .format(gnb.score(X_train[cols], y_train)))\n",
    "print('Accuracy of gnb on test set: {:.2f}'\n",
    "     .format(gnb.score(X_test[cols], y_test)))"
   ]
  },
  {
   "cell_type": "code",
   "execution_count": 23,
   "metadata": {},
   "outputs": [
    {
     "name": "stdout",
     "output_type": "stream",
     "text": [
      "              precision    recall  f1-score   support\n",
      "\n",
      "           0       0.77      0.75      0.76      1049\n",
      "           1       0.75      0.76      0.76      1021\n",
      "\n",
      "    accuracy                           0.76      2070\n",
      "   macro avg       0.76      0.76      0.76      2070\n",
      "weighted avg       0.76      0.76      0.76      2070\n",
      "\n"
     ]
    }
   ],
   "source": [
    "from sklearn.metrics import classification_report\n",
    "print(classification_report(y_test, y_pred))"
   ]
  },
  {
   "cell_type": "code",
   "execution_count": 26,
   "metadata": {},
   "outputs": [
    {
     "data": {
      "image/png": "[encoded data removed]",
      "text/plain": [
       "<Figure size 432x288 with 1 Axes>"
      ]
     },
     "metadata": {
      "needs_background": "light"
     },
     "output_type": "display_data"
    }
   ],
   "source": [
    "ax = sns.boxplot(x=X['Monthly Charges'])"
   ]
  },
  {
   "cell_type": "code",
   "execution_count": 25,
   "metadata": {},
   "outputs": [
    {
     "data": {
      "image/png": "[encoded data removed]",
      "text/plain": [
       "<Figure size 432x288 with 1 Axes>"
      ]
     },
     "metadata": {
      "needs_background": "light"
     },
     "output_type": "display_data"
    }
   ],
   "source": [
    "ax = sns.boxplot(x=X['Tenure Months'])"
   ]
  },
  {
   "cell_type": "code",
   "execution_count": 74,
   "metadata": {},
   "outputs": [
    {
     "data": {
      "image/png": "[encoded data removed]",
      "text/plain": [
       "<Figure size 432x288 with 1 Axes>"
      ]
     },
     "metadata": {
      "needs_background": "light"
     },
     "output_type": "display_data"
    }
   ],
   "source": [
    "ax = sns.boxplot(x=X['Total Charges'])"
   ]
  },
  {
   "cell_type": "code",
   "execution_count": 29,
   "metadata": {},
   "outputs": [
    {
     "name": "stderr",
     "output_type": "stream",
     "text": [
      "C:\\Users\\asus\\Anaconda3\\lib\\site-packages\\scipy\\stats\\morestats.py:1660: UserWarning: p-value may not be accurate for N > 5000.\n",
      "  warnings.warn(\"p-value may not be accurate for N > 5000.\")\n"
     ]
    },
    {
     "data": {
      "text/plain": [
       "(0.8810396194458008, 0.0)"
      ]
     },
     "execution_count": 29,
     "metadata": {},
     "output_type": "execute_result"
    }
   ],
   "source": [
    "from scipy import stats\n",
    "stats.shapiro(X['Tenure Months'])"
   ]
  },
  {
   "cell_type": "code",
   "execution_count": null,
   "metadata": {},
   "outputs": [],
   "source": [
    "from scipy import stats\n",
    "stats.shapiro(X['Tenure Months'])"
   ]
  },
  {
   "cell_type": "code",
   "execution_count": 41,
   "metadata": {},
   "outputs": [],
   "source": [
    "from imblearn.under_sampling import RandomUnderSampler\n",
    "# define undersampling strategy\n",
    "under = RandomUnderSampler(sampling_strategy=1)\n"
   ]
  },
  {
   "cell_type": "code",
   "execution_count": 42,
   "metadata": {},
   "outputs": [],
   "source": [
    "X=data.drop(['CustomerID','Churn Value','Count','Zip Code','Latitude','Longitude'],axis=1)\n",
    "y=data['Churn Value']\n",
    "X, y = under.fit_resample(X, y)"
   ]
  },
  {
   "cell_type": "code",
   "execution_count": 43,
   "metadata": {},
   "outputs": [
    {
     "data": {
      "text/plain": [
       "(0.884081244468689, 0.0)"
      ]
     },
     "execution_count": 43,
     "metadata": {},
     "output_type": "execute_result"
    }
   ],
   "source": [
    "from scipy import stats\n",
    "stats.shapiro(X['Tenure Months'])"
   ]
  },
  {
   "cell_type": "code",
   "execution_count": 44,
   "metadata": {},
   "outputs": [
    {
     "data": {
      "text/plain": [
       "(3738, 26)"
      ]
     },
     "execution_count": 44,
     "metadata": {},
     "output_type": "execute_result"
    }
   ],
   "source": [
    "X.shape"
   ]
  },
  {
   "cell_type": "code",
   "execution_count": 72,
   "metadata": {},
   "outputs": [],
   "source": [
    "from random import sample\n",
    "sampled=sample(list(X['Tenure Months']),500)"
   ]
  },
  {
   "cell_type": "code",
   "execution_count": 73,
   "metadata": {},
   "outputs": [
    {
     "data": {
      "text/plain": [
       "(0.8819242715835571, 4.353124310536743e-19)"
      ]
     },
     "execution_count": 73,
     "metadata": {},
     "output_type": "execute_result"
    }
   ],
   "source": [
    "stats.shapiro(sampled)"
   ]
  },
  {
   "cell_type": "code",
   "execution_count": null,
   "metadata": {},
   "outputs": [],
   "source": []
  }
 ],
 "metadata": {
  "kernelspec": {
   "display_name": "Python 3",
   "language": "python",
   "name": "python3"
  },
  "language_info": {
   "codemirror_mode": {
    "name": "ipython",
    "version": 3
   },
   "file_extension": ".py",
   "mimetype": "text/x-python",
   "name": "python",
   "nbconvert_exporter": "python",
   "pygments_lexer": "ipython3",
   "version": "3.7.4"
  }
 },
 "nbformat": 4,
 "nbformat_minor": 4
}
