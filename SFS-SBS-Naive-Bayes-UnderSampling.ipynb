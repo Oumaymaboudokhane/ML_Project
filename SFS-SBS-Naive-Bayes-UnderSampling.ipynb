{
 "cells": [
  {
   "cell_type": "code",
   "execution_count": 2,
   "metadata": {},
   "outputs": [
    {
     "name": "stderr",
     "output_type": "stream",
     "text": [
      "C:\\Users\\asus\\Anaconda3\\lib\\site-packages\\statsmodels\\tools\\_testing.py:19: FutureWarning: pandas.util.testing is deprecated. Use the functions in the public API at pandas.testing instead.\n",
      "  import pandas.util.testing as tm\n"
     ]
    }
   ],
   "source": [
    "import numpy as np\n",
    "import pandas as pd\n",
    "import seaborn as sns\n",
    "import matplotlib.pyplot as plt\n",
    "from sklearn import preprocessing\n",
    "\n",
    "df=pd.read_excel('C://Users//asus//Desktop//DataCleaned.xlsx')\n"
   ]
  },
  {
   "cell_type": "code",
   "execution_count": 3,
   "metadata": {},
   "outputs": [],
   "source": [
    "y=df['Churn Value']\n",
    "x=df.drop(['Churn Value'], axis=1)"
   ]
  },
  {
   "cell_type": "code",
   "execution_count": 4,
   "metadata": {},
   "outputs": [],
   "source": [
    "#les features ont été extraite par la méthode sfs et sbs du code précédant (sfs et sbs knn)\n",
    "sbs_features=['Tenure Months',\n",
    "   'Churn Score',\n",
    "   'Senior Citizen_Yes',\n",
    "   'Partner_Yes',\n",
    "   'Dependents_Yes',\n",
    "   'Multiple Lines_Yes',\n",
    "   'Internet Service_Fiber optic',\n",
    "   'Internet Service_No',\n",
    "   'Online Security_No internet service',\n",
    "   'Online Backup_No internet service',\n",
    "   'Device Protection_No internet service',\n",
    "   'Tech Support_No internet service']\n",
    "x_sbs=x[sbs_features]\n",
    "sfs_features=['Tenure Months',\n",
    "   'Monthly Charges',\n",
    "   'Churn Score',\n",
    "   'Dependents_Yes',\n",
    "   'Multiple Lines_No phone service',\n",
    "   'Internet Service_No',\n",
    "   'Online Security_No internet service',\n",
    "   'Online Backup_No internet service',\n",
    "   'Device Protection_No internet service',\n",
    "   'Tech Support_No internet service',\n",
    "   'Streaming TV_No internet service',\n",
    "   'Streaming Movies_No internet service']\n",
    "x_sfs=x[sfs_features]\n"
   ]
  },
  {
   "cell_type": "code",
   "execution_count": 5,
   "metadata": {},
   "outputs": [],
   "source": [
    "from sklearn.naive_bayes import GaussianNB\n",
    "from sklearn.model_selection import train_test_split\n",
    "\n",
    "gnb_sfs = GaussianNB()\n",
    "X_train_sfs, X_test_sfs, y_train_sfs, y_test_sfs = train_test_split(x_sfs, y, test_size=0.2, random_state=1)\n",
    "gnb_sbs = GaussianNB()\n",
    "X_train_sbs, X_test_sbs, y_train_sbs, y_test_sbs = train_test_split(x_sbs, y, test_size=0.2, random_state=1)"
   ]
  },
  {
   "cell_type": "code",
   "execution_count": 6,
   "metadata": {},
   "outputs": [
    {
     "data": {
      "text/plain": [
       "GaussianNB()"
      ]
     },
     "execution_count": 6,
     "metadata": {},
     "output_type": "execute_result"
    }
   ],
   "source": [
    "gnb_sfs.fit(X_train_sfs,y_train_sfs)\n",
    "gnb_sbs.fit(X_train_sbs,y_train_sbs)"
   ]
  },
  {
   "cell_type": "code",
   "execution_count": 7,
   "metadata": {},
   "outputs": [
    {
     "name": "stdout",
     "output_type": "stream",
     "text": [
      "Accuracy of gnb_sfs on training set: 0.76\n",
      "Accuracy of gnb_sfs on test set: 0.77\n",
      "Accuracy of gnb_sbs on training set: 0.73\n",
      "Accuracy of gnb_sbs on test set: 0.75\n"
     ]
    }
   ],
   "source": [
    "print('Accuracy of gnb_sfs on training set: {:.2f}'\n",
    "     .format(gnb_sfs.score(X_train_sfs, y_train_sfs)))\n",
    "print('Accuracy of gnb_sfs on test set: {:.2f}'\n",
    "     .format(gnb_sfs.score(X_test_sfs, y_test_sfs)))\n",
    "print('Accuracy of gnb_sbs on training set: {:.2f}'\n",
    "     .format(gnb_sfs.score(X_train_sbs, y_train_sbs)))\n",
    "print('Accuracy of gnb_sbs on test set: {:.2f}'\n",
    "     .format(gnb_sfs.score(X_test_sbs, y_test_sbs)))"
   ]
  },
  {
   "cell_type": "code",
   "execution_count": 8,
   "metadata": {},
   "outputs": [
    {
     "name": "stdout",
     "output_type": "stream",
     "text": [
      "              precision    recall  f1-score   support\n",
      "\n",
      "           0       0.96      0.72      0.82      1059\n",
      "           1       0.52      0.91      0.66       350\n",
      "\n",
      "    accuracy                           0.77      1409\n",
      "   macro avg       0.74      0.82      0.74      1409\n",
      "weighted avg       0.85      0.77      0.78      1409\n",
      "\n",
      "              precision    recall  f1-score   support\n",
      "\n",
      "           0       0.96      0.77      0.85      1059\n",
      "           1       0.56      0.89      0.69       350\n",
      "\n",
      "    accuracy                           0.80      1409\n",
      "   macro avg       0.76      0.83      0.77      1409\n",
      "weighted avg       0.86      0.80      0.81      1409\n",
      "\n"
     ]
    }
   ],
   "source": [
    "from sklearn.metrics import classification_report\n",
    "y_pred_sfs=gnb_sfs.predict(X_test_sfs)\n",
    "print(classification_report(y_test_sfs, y_pred_sfs))\n",
    "y_pred_sbs=gnb_sbs.predict(X_test_sbs)\n",
    "print(classification_report(y_test_sbs, y_pred_sbs))"
   ]
  },
  {
   "cell_type": "code",
   "execution_count": 9,
   "metadata": {},
   "outputs": [],
   "source": [
    "from imblearn.under_sampling import RandomUnderSampler\n",
    "# define undersampling strategy\n",
    "under = RandomUnderSampler(sampling_strategy=1)"
   ]
  },
  {
   "cell_type": "code",
   "execution_count": 14,
   "metadata": {},
   "outputs": [],
   "source": [
    "x_under_sbs, y_sbs = under.fit_resample(x_sbs, y)\n"
   ]
  },
  {
   "cell_type": "code",
   "execution_count": 15,
   "metadata": {},
   "outputs": [],
   "source": [
    "x_under_sfs, y_sfs = under.fit_resample(x_sfs, y)"
   ]
  },
  {
   "cell_type": "code",
   "execution_count": 35,
   "metadata": {},
   "outputs": [],
   "source": [
    "gnb_under_sfs = GaussianNB()\n",
    "X_train_sfs, X_test_sfs, y_train_sfs, y_test_sfs = train_test_split(x_under_sfs, y_sfs, test_size=0.2, random_state=1)\n",
    "gnb_under_sbs = GaussianNB()\n",
    "X_train_sbs, X_test_sbs, y_train_sbs, y_test_sbs = train_test_split(x_under_sbs, y_sbs, test_size=0.2, random_state=1)"
   ]
  },
  {
   "cell_type": "code",
   "execution_count": 36,
   "metadata": {},
   "outputs": [
    {
     "data": {
      "text/plain": [
       "GaussianNB()"
      ]
     },
     "execution_count": 36,
     "metadata": {},
     "output_type": "execute_result"
    }
   ],
   "source": [
    "gnb_under_sfs.fit(X_train_sfs,y_train_sfs)\n",
    "gnb_under_sbs.fit(X_train_sbs,y_train_sbs)"
   ]
  },
  {
   "cell_type": "code",
   "execution_count": 37,
   "metadata": {},
   "outputs": [
    {
     "name": "stdout",
     "output_type": "stream",
     "text": [
      "Accuracy of gnb_sfs on training set: 0.80\n",
      "Accuracy of gnb_sfs on test set: 0.80\n",
      "Accuracy of gnb_sbs on training set: 0.82\n",
      "Accuracy of gnb_sbs on test set: 0.81\n"
     ]
    }
   ],
   "source": [
    "print('Accuracy of gnb_sfs on training set: {:.2f}'\n",
    "     .format(gnb_under_sfs.score(X_train_sfs, y_train_sfs)))\n",
    "print('Accuracy of gnb_sfs on test set: {:.2f}'\n",
    "     .format(gnb_under_sfs.score(X_test_sfs, y_test_sfs)))\n",
    "print('Accuracy of gnb_sbs on training set: {:.2f}'\n",
    "     .format(gnb_under_sbs.score(X_train_sbs, y_train_sbs)))\n",
    "print('Accuracy of gnb_sbs on test set: {:.2f}'\n",
    "     .format(gnb_under_sbs.score(X_test_sbs, y_test_sbs)))"
   ]
  },
  {
   "cell_type": "code",
   "execution_count": 38,
   "metadata": {},
   "outputs": [
    {
     "name": "stdout",
     "output_type": "stream",
     "text": [
      "              precision    recall  f1-score   support\n",
      "\n",
      "           0       0.91      0.68      0.78       384\n",
      "           1       0.73      0.93      0.82       364\n",
      "\n",
      "    accuracy                           0.80       748\n",
      "   macro avg       0.82      0.80      0.80       748\n",
      "weighted avg       0.82      0.80      0.80       748\n",
      "\n",
      "              precision    recall  f1-score   support\n",
      "\n",
      "           0       0.89      0.73      0.80       384\n",
      "           1       0.76      0.90      0.83       364\n",
      "\n",
      "    accuracy                           0.81       748\n",
      "   macro avg       0.82      0.82      0.81       748\n",
      "weighted avg       0.83      0.81      0.81       748\n",
      "\n"
     ]
    }
   ],
   "source": [
    "from sklearn.metrics import classification_report\n",
    "y_pred_sfs=gnb_sfs.predict(X_test_sfs)\n",
    "print(classification_report(y_test_sfs, y_pred_sfs))\n",
    "y_pred_sbs=gnb_sbs.predict(X_test_sbs)\n",
    "print(classification_report(y_test_sbs, y_pred_sbs))"
   ]
  },
  {
   "cell_type": "code",
   "execution_count": null,
   "metadata": {},
   "outputs": [],
   "source": []
  }
 ],
 "metadata": {
  "kernelspec": {
   "display_name": "Python 3",
   "language": "python",
   "name": "python3"
  },
  "language_info": {
   "codemirror_mode": {
    "name": "ipython",
    "version": 3
   },
   "file_extension": ".py",
   "mimetype": "text/x-python",
   "name": "python",
   "nbconvert_exporter": "python",
   "pygments_lexer": "ipython3",
   "version": "3.7.4"
  }
 },
 "nbformat": 4,
 "nbformat_minor": 4
}
